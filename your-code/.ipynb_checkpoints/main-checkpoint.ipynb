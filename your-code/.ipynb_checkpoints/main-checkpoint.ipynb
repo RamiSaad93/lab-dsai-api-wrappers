{
 "cells": [
  {
   "cell_type": "markdown",
   "id": "bd0a3905-b346-43d5-9791-d3869299eb9d",
   "metadata": {},
   "source": [
    "# API wrappers"
   ]
  },
  {
   "cell_type": "markdown",
   "id": "327b4075-5374-4ecf-b8c5-c106d20d80e1",
   "metadata": {},
   "source": [
    "The OpenWeatherMap offers REST endpoints for querying current weather, forecasts, historical data, etc. However, accessing this data directly via the REST API requires handling multiple API calls, query parameters, and response parsing. The pyowm library abstracts these complexities and provides useful built-in functionalities."
   ]
  },
  {
   "cell_type": "markdown",
   "id": "1d731d49-fd79-44c8-8f72-68194c99fec0",
   "metadata": {},
   "source": [
    "After signing in to OpenWeatherMap retrieve your api key at https://home.openweathermap.org/api_keys\n",
    "\n",
    "You will also need to install the pyowm package: pip install pyowm "
   ]
  },
  {
   "cell_type": "code",
   "execution_count": 2,
   "id": "1c0c1292",
   "metadata": {},
   "outputs": [
    {
     "name": "stdout",
     "output_type": "stream",
     "text": [
      "Collecting pyowm\n",
      "  Downloading pyowm-3.5.0-py3-none-any.whl (4.5 MB)\n",
      "     ---------------------------------------- 4.5/4.5 MB 18.1 MB/s eta 0:00:00\n",
      "Requirement already satisfied: requests<3,>=2.20.0 in c:\\users\\ramya\\anaconda3\\lib\\site-packages (from pyowm) (2.28.1)\n",
      "Requirement already satisfied: PySocks<2,>=1.7.1 in c:\\users\\ramya\\anaconda3\\lib\\site-packages (from pyowm) (1.7.1)\n",
      "Collecting geojson<4,>=2.3.0\n",
      "  Downloading geojson-3.2.0-py3-none-any.whl (15 kB)\n",
      "Requirement already satisfied: idna<4,>=2.5 in c:\\users\\ramya\\anaconda3\\lib\\site-packages (from requests<3,>=2.20.0->pyowm) (3.3)\n",
      "Requirement already satisfied: urllib3<1.27,>=1.21.1 in c:\\users\\ramya\\anaconda3\\lib\\site-packages (from requests<3,>=2.20.0->pyowm) (1.26.11)\n",
      "Requirement already satisfied: charset-normalizer<3,>=2 in c:\\users\\ramya\\anaconda3\\lib\\site-packages (from requests<3,>=2.20.0->pyowm) (2.0.4)\n",
      "Requirement already satisfied: certifi>=2017.4.17 in c:\\users\\ramya\\anaconda3\\lib\\site-packages (from requests<3,>=2.20.0->pyowm) (2024.8.30)\n",
      "Installing collected packages: geojson, pyowm\n",
      "Successfully installed geojson-3.2.0 pyowm-3.5.0\n"
     ]
    },
    {
     "name": "stderr",
     "output_type": "stream",
     "text": [
      "WARNING: Ignoring invalid distribution -umpy (c:\\users\\ramya\\anaconda3\\lib\\site-packages)\n",
      "WARNING: Ignoring invalid distribution -umpy (c:\\users\\ramya\\anaconda3\\lib\\site-packages)\n",
      "WARNING: Ignoring invalid distribution -umpy (c:\\users\\ramya\\anaconda3\\lib\\site-packages)\n",
      "WARNING: Ignoring invalid distribution -umpy (c:\\users\\ramya\\anaconda3\\lib\\site-packages)\n",
      "WARNING: Ignoring invalid distribution -umpy (c:\\users\\ramya\\anaconda3\\lib\\site-packages)\n",
      "WARNING: Ignoring invalid distribution -umpy (c:\\users\\ramya\\anaconda3\\lib\\site-packages)\n",
      "WARNING: Ignoring invalid distribution -umpy (c:\\users\\ramya\\anaconda3\\lib\\site-packages)\n",
      "WARNING: Ignoring invalid distribution -umpy (c:\\users\\ramya\\anaconda3\\lib\\site-packages)\n"
     ]
    }
   ],
   "source": [
    "!pip install pyowm"
   ]
  },
  {
   "cell_type": "code",
   "execution_count": 79,
   "id": "63b327b1-338b-4b14-a5b5-1bd8741da64b",
   "metadata": {},
   "outputs": [],
   "source": [
    "import requests\n",
    "import pyowm\n",
    "import json\n",
    "\n",
    "api_key = '1fe2d18b8130ad19d8ef94ec8da37910'"
   ]
  },
  {
   "cell_type": "markdown",
   "id": "f73d3029-c6a6-43b9-81a9-0e81c13bdf09",
   "metadata": {},
   "source": [
    "## use case 1: managing API keys\n",
    "\n",
    "In a raw rest API call you always have to manage credentials in each individual call. Wrappers usually store and manage the authentication for you"
   ]
  },
  {
   "cell_type": "code",
   "execution_count": 80,
   "id": "afbcdf71-845e-4aae-b8cc-8963745f7d4b",
   "metadata": {},
   "outputs": [
    {
     "data": {
      "text/plain": [
       "{'coord': {'lon': -0.1257, 'lat': 51.5085},\n",
       " 'weather': [{'id': 501,\n",
       "   'main': 'Rain',\n",
       "   'description': 'moderate rain',\n",
       "   'icon': '10d'}],\n",
       " 'base': 'stations',\n",
       " 'main': {'temp': 291.41,\n",
       "  'feels_like': 291.67,\n",
       "  'temp_min': 290.71,\n",
       "  'temp_max': 292.13,\n",
       "  'pressure': 995,\n",
       "  'humidity': 91,\n",
       "  'sea_level': 995,\n",
       "  'grnd_level': 991},\n",
       " 'visibility': 10000,\n",
       " 'wind': {'speed': 6.17, 'deg': 200},\n",
       " 'rain': {'1h': 1.31},\n",
       " 'clouds': {'all': 75},\n",
       " 'dt': 1756888553,\n",
       " 'sys': {'type': 2,\n",
       "  'id': 2075535,\n",
       "  'country': 'GB',\n",
       "  'sunrise': 1756876593,\n",
       "  'sunset': 1756925015},\n",
       " 'timezone': 3600,\n",
       " 'id': 2643743,\n",
       " 'name': 'London',\n",
       " 'cod': 200}"
      ]
     },
     "execution_count": 80,
     "metadata": {},
     "output_type": "execute_result"
    }
   ],
   "source": [
    "#You can get current weather data by making a GET request to an endpoint like:\n",
    "\n",
    "params = {\n",
    "    'appid' : api_key\n",
    "}\n",
    "\n",
    "response = requests.get('https://api.openweathermap.org/data/2.5/weather?q=London', params = params)\n",
    "\n",
    "json.loads(response.text)\n",
    "\n",
    "#but for every call you make using GET from now on you do need to add the parameters, since the raw API does not manage authentication for you"
   ]
  },
  {
   "cell_type": "markdown",
   "id": "b82c585b-fd83-4f59-9d46-14225f3e5037",
   "metadata": {},
   "source": [
    "Most wrappers (pyowm included) include some way of initializing a session with the authentication key that you then don't need to type again.\n",
    "\n",
    "Initialize pyowm with the default configuration. Thenopen the weather manager\n",
    "\n",
    "Check out a snippet here: https://pyowm.readthedocs.io/en/latest/v3/code-recipes.html#weather_data"
   ]
  },
  {
   "cell_type": "code",
   "execution_count": 81,
   "id": "f376d466-5a69-4a47-b35d-1870cbef61ff",
   "metadata": {},
   "outputs": [
    {
     "data": {
      "text/plain": [
       "<pyowm.weatherapi30.weather_manager.WeatherManager>"
      ]
     },
     "execution_count": 81,
     "metadata": {},
     "output_type": "execute_result"
    }
   ],
   "source": [
    "from pyowm.owm import OWM\n",
    "owm = OWM(api_key)\n",
    "weather_mgr = owm.weather_manager()\n",
    "weather_mgr"
   ]
  },
  {
   "cell_type": "markdown",
   "id": "840060e4-d3de-4b96-bb03-5bce02003f1d",
   "metadata": {},
   "source": [
    "## use case 2: Simplified calls\n",
    "\n",
    "With the raw REST API, you'd have to build a URL manually, send the request, and parse the JSON response to get the current weather."
   ]
  },
  {
   "cell_type": "code",
   "execution_count": 82,
   "id": "a2aa8395-0bed-4098-8881-0ffe93541b1f",
   "metadata": {},
   "outputs": [
    {
     "name": "stdout",
     "output_type": "stream",
     "text": [
      "Temperature: 291.41°C, Humidity: 91%, Wind Speed: 6.17 m/s\n"
     ]
    }
   ],
   "source": [
    "city = 'London'\n",
    "url = f'http://api.openweathermap.org/data/2.5/weather?q={city}'\n",
    "\n",
    "response = requests.get(url,params= params)\n",
    "data = response.json()\n",
    "temperature = data['main']['temp']\n",
    "humidity = data['main']['humidity']\n",
    "wind_speed = data['wind']['speed']\n",
    "\n",
    "print(f\"Temperature: {temperature}°C, Humidity: {humidity}%, Wind Speed: {wind_speed} m/s\")"
   ]
  },
  {
   "cell_type": "markdown",
   "id": "df5bc6df-bfb2-416d-8d06-3961d3a12234",
   "metadata": {},
   "source": [
    "Get the equivalent call as above for the city of London using the pyowm package"
   ]
  },
  {
   "cell_type": "code",
   "execution_count": 83,
   "id": "d1986770-4628-480b-b587-9ff5c42d301c",
   "metadata": {},
   "outputs": [
    {
     "name": "stdout",
     "output_type": "stream",
     "text": [
      "Rain\n",
      "light rain\n"
     ]
    }
   ],
   "source": [
    "mgr = owm.weather_manager()\n",
    "observation = mgr.weather_at_place('London,GB')  # the observation object is a box containing a weather object\n",
    "weather = observation.weather\n",
    "print(weather.status)           # short version of status (eg. 'Rain')\n",
    "print(weather.detailed_status)  # detailed version of status (eg. 'light rain')\n",
    "\n",
    "wind_dict_in_meters_per_sec = observation.weather.wind() "
   ]
  },
  {
   "cell_type": "code",
   "execution_count": 84,
   "id": "64c58278",
   "metadata": {},
   "outputs": [
    {
     "data": {
      "text/plain": [
       "{'temp': 291.43,\n",
       " 'temp_max': 292.13,\n",
       " 'temp_min': 290.71,\n",
       " 'feels_like': 291.69,\n",
       " 'temp_kf': None}"
      ]
     },
     "execution_count": 84,
     "metadata": {},
     "output_type": "execute_result"
    }
   ],
   "source": [
    "temp_kelvin = weather.temperature()\n",
    "# temp_dict_fahrenheit = weather.temperature('fahrenheit')  # a dict in Fahrenheit units\n",
    "# temp_dict_celsius = weather.temperature('celsius')   # a dict in celisius units\n",
    "temp_kelvin"
   ]
  },
  {
   "cell_type": "code",
   "execution_count": 85,
   "id": "c700a0e9",
   "metadata": {},
   "outputs": [
    {
     "data": {
      "text/plain": [
       "{'speed': 6.17, 'deg': 200}"
      ]
     },
     "execution_count": 85,
     "metadata": {},
     "output_type": "execute_result"
    }
   ],
   "source": [
    "wind_dict_in_meters_per_sec = weather.wind() \n",
    "wind_dict_in_meters_per_sec\n",
    "\n",
    "# wind_dict_in_miles_per_h = mgr.weather_at_place('Tokyo,JP').wind(unit='miles_hour')\n",
    "# wind_dict_in_knots = mgr.weather_at_place('Tokyo,JP').wind(unit='knots')\n",
    "# wind_dict_in_beaufort = mgr.weather_at_place('Tokyo,JP').wind(unit='beaufort') "
   ]
  },
  {
   "cell_type": "code",
   "execution_count": 88,
   "id": "bffc8973",
   "metadata": {},
   "outputs": [
    {
     "data": {
      "text/plain": [
       "91"
      ]
     },
     "execution_count": 88,
     "metadata": {},
     "output_type": "execute_result"
    }
   ],
   "source": [
    "humidity = weather.humidity\n",
    "humidity"
   ]
  },
  {
   "cell_type": "code",
   "execution_count": 89,
   "id": "3ac3a9f3",
   "metadata": {},
   "outputs": [
    {
     "name": "stdout",
     "output_type": "stream",
     "text": [
      "Temperature: 291.43°C, Humidity: 91%, Wind Speed: 6.17 m/s\n"
     ]
    }
   ],
   "source": [
    "print(f\"Temperature: {temp_kelvin['temp']}°C, Humidity: {humidity}%, Wind Speed: {wind_dict_in_meters_per_sec['speed']} m/s\")"
   ]
  },
  {
   "cell_type": "code",
   "execution_count": null,
   "id": "12c93d07",
   "metadata": {},
   "outputs": [],
   "source": []
  },
  {
   "cell_type": "code",
   "execution_count": 90,
   "id": "d1c6315a",
   "metadata": {},
   "outputs": [],
   "source": [
    "#################################################\n",
    "###############################################\n",
    "#################################################\n",
    "#################################################"
   ]
  },
  {
   "cell_type": "code",
   "execution_count": 91,
   "id": "5791598c",
   "metadata": {},
   "outputs": [
    {
     "ename": "TypeError",
     "evalue": "'pyowm.commons.cityidregistry' is not a package",
     "output_type": "error",
     "traceback": [
      "\u001b[1;31m---------------------------------------------------------------------------\u001b[0m",
      "\u001b[1;31mTypeError\u001b[0m                                 Traceback (most recent call last)",
      "\u001b[1;32m~\\AppData\\Local\\Temp\\ipykernel_10856\\3106506433.py\u001b[0m in \u001b[0;36m<module>\u001b[1;34m\u001b[0m\n\u001b[1;32m----> 1\u001b[1;33m \u001b[0mreg\u001b[0m \u001b[1;33m=\u001b[0m \u001b[0mowm\u001b[0m\u001b[1;33m.\u001b[0m\u001b[0mcity_id_registry\u001b[0m\u001b[1;33m(\u001b[0m\u001b[1;33m)\u001b[0m\u001b[1;33m\u001b[0m\u001b[1;33m\u001b[0m\u001b[0m\n\u001b[0m",
      "\u001b[1;32m~\\anaconda3\\lib\\site-packages\\pyowm\\owm.py\u001b[0m in \u001b[0;36mcity_id_registry\u001b[1;34m(self)\u001b[0m\n\u001b[0;32m     96\u001b[0m         \u001b[1;33m:\u001b[0m\u001b[0mreturns\u001b[0m\u001b[1;33m:\u001b[0m \u001b[0ma\u001b[0m \u001b[1;33m*\u001b[0m\u001b[0mCityIDRegistry\u001b[0m\u001b[1;33m*\u001b[0m \u001b[0minstance\u001b[0m\u001b[1;33m\u001b[0m\u001b[1;33m\u001b[0m\u001b[0m\n\u001b[0;32m     97\u001b[0m         \"\"\"\n\u001b[1;32m---> 98\u001b[1;33m         \u001b[1;32mreturn\u001b[0m \u001b[0mcityidregistry\u001b[0m\u001b[1;33m.\u001b[0m\u001b[0mCityIDRegistry\u001b[0m\u001b[1;33m.\u001b[0m\u001b[0mget_instance\u001b[0m\u001b[1;33m(\u001b[0m\u001b[1;33m)\u001b[0m\u001b[1;33m\u001b[0m\u001b[1;33m\u001b[0m\u001b[0m\n\u001b[0m\u001b[0;32m     99\u001b[0m \u001b[1;33m\u001b[0m\u001b[0m\n\u001b[0;32m    100\u001b[0m     \u001b[1;32mdef\u001b[0m \u001b[0mstations_manager\u001b[0m\u001b[1;33m(\u001b[0m\u001b[0mself\u001b[0m\u001b[1;33m)\u001b[0m\u001b[1;33m:\u001b[0m\u001b[1;33m\u001b[0m\u001b[1;33m\u001b[0m\u001b[0m\n",
      "\u001b[1;32m~\\anaconda3\\lib\\site-packages\\pyowm\\commons\\cityidregistry.py\u001b[0m in \u001b[0;36mget_instance\u001b[1;34m(cls)\u001b[0m\n\u001b[0;32m     28\u001b[0m         \u001b[1;33m:\u001b[0m\u001b[1;32mreturn\u001b[0m\u001b[1;33m:\u001b[0m \u001b[0ma\u001b[0m\u001b[0;31m \u001b[0m\u001b[0;31m`\u001b[0m\u001b[0mCityIDRegistry\u001b[0m\u001b[0;31m`\u001b[0m \u001b[0minstance\u001b[0m\u001b[1;33m\u001b[0m\u001b[1;33m\u001b[0m\u001b[0m\n\u001b[0;32m     29\u001b[0m         \"\"\"\n\u001b[1;32m---> 30\u001b[1;33m         \u001b[1;32mreturn\u001b[0m \u001b[0mCityIDRegistry\u001b[0m\u001b[1;33m(\u001b[0m\u001b[0mCITY_ID_DB_PATH\u001b[0m\u001b[1;33m)\u001b[0m\u001b[1;33m\u001b[0m\u001b[1;33m\u001b[0m\u001b[0m\n\u001b[0m\u001b[0;32m     31\u001b[0m \u001b[1;33m\u001b[0m\u001b[0m\n\u001b[0;32m     32\u001b[0m     \u001b[1;32mdef\u001b[0m \u001b[0m__decompress_db_to_memory\u001b[0m\u001b[1;33m(\u001b[0m\u001b[0mself\u001b[0m\u001b[1;33m,\u001b[0m \u001b[0msqlite_db_path\u001b[0m\u001b[1;33m:\u001b[0m \u001b[0mstr\u001b[0m\u001b[1;33m)\u001b[0m\u001b[1;33m:\u001b[0m\u001b[1;33m\u001b[0m\u001b[1;33m\u001b[0m\u001b[0m\n",
      "\u001b[1;32m~\\anaconda3\\lib\\site-packages\\pyowm\\commons\\cityidregistry.py\u001b[0m in \u001b[0;36m__init__\u001b[1;34m(self, sqlite_db_path)\u001b[0m\n\u001b[0;32m     20\u001b[0m \u001b[1;33m\u001b[0m\u001b[0m\n\u001b[0;32m     21\u001b[0m     \u001b[1;32mdef\u001b[0m \u001b[0m__init__\u001b[0m\u001b[1;33m(\u001b[0m\u001b[0mself\u001b[0m\u001b[1;33m,\u001b[0m \u001b[0msqlite_db_path\u001b[0m\u001b[1;33m:\u001b[0m \u001b[0mstr\u001b[0m\u001b[1;33m)\u001b[0m\u001b[1;33m:\u001b[0m\u001b[1;33m\u001b[0m\u001b[1;33m\u001b[0m\u001b[0m\n\u001b[1;32m---> 22\u001b[1;33m         \u001b[0mself\u001b[0m\u001b[1;33m.\u001b[0m\u001b[0mconnection\u001b[0m \u001b[1;33m=\u001b[0m \u001b[0mself\u001b[0m\u001b[1;33m.\u001b[0m\u001b[0m__decompress_db_to_memory\u001b[0m\u001b[1;33m(\u001b[0m\u001b[0msqlite_db_path\u001b[0m\u001b[1;33m)\u001b[0m\u001b[1;33m\u001b[0m\u001b[1;33m\u001b[0m\u001b[0m\n\u001b[0m\u001b[0;32m     23\u001b[0m \u001b[1;33m\u001b[0m\u001b[0m\n\u001b[0;32m     24\u001b[0m     \u001b[1;33m@\u001b[0m\u001b[0mclassmethod\u001b[0m\u001b[1;33m\u001b[0m\u001b[1;33m\u001b[0m\u001b[0m\n",
      "\u001b[1;32m~\\anaconda3\\lib\\site-packages\\pyowm\\commons\\cityidregistry.py\u001b[0m in \u001b[0;36m__decompress_db_to_memory\u001b[1;34m(self, sqlite_db_path)\u001b[0m\n\u001b[0;32m     41\u001b[0m \u001b[1;33m\u001b[0m\u001b[0m\n\u001b[0;32m     42\u001b[0m         \u001b[1;31m# read and uncompress data from compressed DB\u001b[0m\u001b[1;33m\u001b[0m\u001b[1;33m\u001b[0m\u001b[0m\n\u001b[1;32m---> 43\u001b[1;33m         \u001b[1;32mwith\u001b[0m \u001b[0mas_file\u001b[0m\u001b[1;33m(\u001b[0m\u001b[0mfiles\u001b[0m\u001b[1;33m(\u001b[0m\u001b[0m__name__\u001b[0m\u001b[1;33m)\u001b[0m \u001b[1;33m/\u001b[0m \u001b[0msqlite_db_path\u001b[0m\u001b[1;33m)\u001b[0m \u001b[1;32mas\u001b[0m \u001b[0mres_name\u001b[0m\u001b[1;33m:\u001b[0m\u001b[1;33m\u001b[0m\u001b[1;33m\u001b[0m\u001b[0m\n\u001b[0m\u001b[0;32m     44\u001b[0m             \u001b[0mbz2_db\u001b[0m \u001b[1;33m=\u001b[0m \u001b[0mbz2\u001b[0m\u001b[1;33m.\u001b[0m\u001b[0mBZ2File\u001b[0m\u001b[1;33m(\u001b[0m\u001b[0mres_name\u001b[0m\u001b[1;33m)\u001b[0m\u001b[1;33m\u001b[0m\u001b[1;33m\u001b[0m\u001b[0m\n\u001b[0;32m     45\u001b[0m         \u001b[0mdecompressed_data\u001b[0m \u001b[1;33m=\u001b[0m \u001b[0mbz2_db\u001b[0m\u001b[1;33m.\u001b[0m\u001b[0mread\u001b[0m\u001b[1;33m(\u001b[0m\u001b[1;33m)\u001b[0m\u001b[1;33m\u001b[0m\u001b[1;33m\u001b[0m\u001b[0m\n",
      "\u001b[1;32m~\\anaconda3\\lib\\importlib\\resources.py\u001b[0m in \u001b[0;36mfiles\u001b[1;34m(package)\u001b[0m\n\u001b[0;32m    145\u001b[0m     \u001b[0mGet\u001b[0m \u001b[0ma\u001b[0m \u001b[0mTraversable\u001b[0m \u001b[0mresource\u001b[0m \u001b[1;32mfrom\u001b[0m \u001b[0ma\u001b[0m \u001b[0mpackage\u001b[0m\u001b[1;33m\u001b[0m\u001b[1;33m\u001b[0m\u001b[0m\n\u001b[0;32m    146\u001b[0m     \"\"\"\n\u001b[1;32m--> 147\u001b[1;33m     \u001b[1;32mreturn\u001b[0m \u001b[0m_common\u001b[0m\u001b[1;33m.\u001b[0m\u001b[0mfrom_package\u001b[0m\u001b[1;33m(\u001b[0m\u001b[0m_get_package\u001b[0m\u001b[1;33m(\u001b[0m\u001b[0mpackage\u001b[0m\u001b[1;33m)\u001b[0m\u001b[1;33m)\u001b[0m\u001b[1;33m\u001b[0m\u001b[1;33m\u001b[0m\u001b[0m\n\u001b[0m\u001b[0;32m    148\u001b[0m \u001b[1;33m\u001b[0m\u001b[0m\n\u001b[0;32m    149\u001b[0m \u001b[1;33m\u001b[0m\u001b[0m\n",
      "\u001b[1;32m~\\anaconda3\\lib\\importlib\\resources.py\u001b[0m in \u001b[0;36m_get_package\u001b[1;34m(package)\u001b[0m\n\u001b[0;32m     49\u001b[0m     \u001b[0mmodule\u001b[0m \u001b[1;33m=\u001b[0m \u001b[0m_resolve\u001b[0m\u001b[1;33m(\u001b[0m\u001b[0mpackage\u001b[0m\u001b[1;33m)\u001b[0m\u001b[1;33m\u001b[0m\u001b[1;33m\u001b[0m\u001b[0m\n\u001b[0;32m     50\u001b[0m     \u001b[1;32mif\u001b[0m \u001b[0mmodule\u001b[0m\u001b[1;33m.\u001b[0m\u001b[0m__spec__\u001b[0m\u001b[1;33m.\u001b[0m\u001b[0msubmodule_search_locations\u001b[0m \u001b[1;32mis\u001b[0m \u001b[1;32mNone\u001b[0m\u001b[1;33m:\u001b[0m\u001b[1;33m\u001b[0m\u001b[1;33m\u001b[0m\u001b[0m\n\u001b[1;32m---> 51\u001b[1;33m         \u001b[1;32mraise\u001b[0m \u001b[0mTypeError\u001b[0m\u001b[1;33m(\u001b[0m\u001b[1;34m'{!r} is not a package'\u001b[0m\u001b[1;33m.\u001b[0m\u001b[0mformat\u001b[0m\u001b[1;33m(\u001b[0m\u001b[0mpackage\u001b[0m\u001b[1;33m)\u001b[0m\u001b[1;33m)\u001b[0m\u001b[1;33m\u001b[0m\u001b[1;33m\u001b[0m\u001b[0m\n\u001b[0m\u001b[0;32m     52\u001b[0m     \u001b[1;32mreturn\u001b[0m \u001b[0mmodule\u001b[0m\u001b[1;33m\u001b[0m\u001b[1;33m\u001b[0m\u001b[0m\n\u001b[0;32m     53\u001b[0m \u001b[1;33m\u001b[0m\u001b[0m\n",
      "\u001b[1;31mTypeError\u001b[0m: 'pyowm.commons.cityidregistry' is not a package"
     ]
    }
   ],
   "source": [
    "reg = owm.city_id_registry()"
   ]
  },
  {
   "cell_type": "code",
   "execution_count": 92,
   "id": "b7b466d4",
   "metadata": {},
   "outputs": [
    {
     "ename": "TypeError",
     "evalue": "'pyowm.commons.cityidregistry' is not a package",
     "output_type": "error",
     "traceback": [
      "\u001b[1;31m---------------------------------------------------------------------------\u001b[0m",
      "\u001b[1;31mTypeError\u001b[0m                                 Traceback (most recent call last)",
      "\u001b[1;32m~\\AppData\\Local\\Temp\\ipykernel_10856\\4261500249.py\u001b[0m in \u001b[0;36m<module>\u001b[1;34m\u001b[0m\n\u001b[1;32m----> 1\u001b[1;33m \u001b[0mreg\u001b[0m \u001b[1;33m=\u001b[0m \u001b[0mowm\u001b[0m\u001b[1;33m.\u001b[0m\u001b[0mcity_id_registry\u001b[0m\u001b[1;33m(\u001b[0m\u001b[1;33m)\u001b[0m\u001b[1;33m\u001b[0m\u001b[1;33m\u001b[0m\u001b[0m\n\u001b[0m\u001b[0;32m      2\u001b[0m \u001b[0mlist_of_locations\u001b[0m \u001b[1;33m=\u001b[0m \u001b[0mreg\u001b[0m\u001b[1;33m.\u001b[0m\u001b[0mlocations_for\u001b[0m\u001b[1;33m(\u001b[0m\u001b[1;34m'Tokyo'\u001b[0m\u001b[1;33m,\u001b[0m \u001b[0mcountry\u001b[0m\u001b[1;33m=\u001b[0m\u001b[1;34m'JP'\u001b[0m\u001b[1;33m,\u001b[0m \u001b[0mmatching\u001b[0m\u001b[1;33m=\u001b[0m\u001b[1;34m'exact'\u001b[0m\u001b[1;33m)\u001b[0m\u001b[1;33m\u001b[0m\u001b[1;33m\u001b[0m\u001b[0m\n\u001b[0;32m      3\u001b[0m \u001b[0mtokyo\u001b[0m \u001b[1;33m=\u001b[0m \u001b[0mlist_of_locations\u001b[0m\u001b[1;33m[\u001b[0m\u001b[1;36m0\u001b[0m\u001b[1;33m]\u001b[0m\u001b[1;33m\u001b[0m\u001b[1;33m\u001b[0m\u001b[0m\n\u001b[0;32m      4\u001b[0m \u001b[0mlat\u001b[0m \u001b[1;33m=\u001b[0m \u001b[0mtokyo\u001b[0m\u001b[1;33m.\u001b[0m\u001b[0mlat\u001b[0m   \u001b[1;31m# 35.689499\u001b[0m\u001b[1;33m\u001b[0m\u001b[1;33m\u001b[0m\u001b[0m\n\u001b[0;32m      5\u001b[0m \u001b[0mlon\u001b[0m \u001b[1;33m=\u001b[0m \u001b[0mtokyo\u001b[0m\u001b[1;33m.\u001b[0m\u001b[0mlon\u001b[0m   \u001b[1;31m# 139.691711\u001b[0m\u001b[1;33m\u001b[0m\u001b[1;33m\u001b[0m\u001b[0m\n",
      "\u001b[1;32m~\\anaconda3\\lib\\site-packages\\pyowm\\owm.py\u001b[0m in \u001b[0;36mcity_id_registry\u001b[1;34m(self)\u001b[0m\n\u001b[0;32m     96\u001b[0m         \u001b[1;33m:\u001b[0m\u001b[0mreturns\u001b[0m\u001b[1;33m:\u001b[0m \u001b[0ma\u001b[0m \u001b[1;33m*\u001b[0m\u001b[0mCityIDRegistry\u001b[0m\u001b[1;33m*\u001b[0m \u001b[0minstance\u001b[0m\u001b[1;33m\u001b[0m\u001b[1;33m\u001b[0m\u001b[0m\n\u001b[0;32m     97\u001b[0m         \"\"\"\n\u001b[1;32m---> 98\u001b[1;33m         \u001b[1;32mreturn\u001b[0m \u001b[0mcityidregistry\u001b[0m\u001b[1;33m.\u001b[0m\u001b[0mCityIDRegistry\u001b[0m\u001b[1;33m.\u001b[0m\u001b[0mget_instance\u001b[0m\u001b[1;33m(\u001b[0m\u001b[1;33m)\u001b[0m\u001b[1;33m\u001b[0m\u001b[1;33m\u001b[0m\u001b[0m\n\u001b[0m\u001b[0;32m     99\u001b[0m \u001b[1;33m\u001b[0m\u001b[0m\n\u001b[0;32m    100\u001b[0m     \u001b[1;32mdef\u001b[0m \u001b[0mstations_manager\u001b[0m\u001b[1;33m(\u001b[0m\u001b[0mself\u001b[0m\u001b[1;33m)\u001b[0m\u001b[1;33m:\u001b[0m\u001b[1;33m\u001b[0m\u001b[1;33m\u001b[0m\u001b[0m\n",
      "\u001b[1;32m~\\anaconda3\\lib\\site-packages\\pyowm\\commons\\cityidregistry.py\u001b[0m in \u001b[0;36mget_instance\u001b[1;34m(cls)\u001b[0m\n\u001b[0;32m     28\u001b[0m         \u001b[1;33m:\u001b[0m\u001b[1;32mreturn\u001b[0m\u001b[1;33m:\u001b[0m \u001b[0ma\u001b[0m\u001b[0;31m \u001b[0m\u001b[0;31m`\u001b[0m\u001b[0mCityIDRegistry\u001b[0m\u001b[0;31m`\u001b[0m \u001b[0minstance\u001b[0m\u001b[1;33m\u001b[0m\u001b[1;33m\u001b[0m\u001b[0m\n\u001b[0;32m     29\u001b[0m         \"\"\"\n\u001b[1;32m---> 30\u001b[1;33m         \u001b[1;32mreturn\u001b[0m \u001b[0mCityIDRegistry\u001b[0m\u001b[1;33m(\u001b[0m\u001b[0mCITY_ID_DB_PATH\u001b[0m\u001b[1;33m)\u001b[0m\u001b[1;33m\u001b[0m\u001b[1;33m\u001b[0m\u001b[0m\n\u001b[0m\u001b[0;32m     31\u001b[0m \u001b[1;33m\u001b[0m\u001b[0m\n\u001b[0;32m     32\u001b[0m     \u001b[1;32mdef\u001b[0m \u001b[0m__decompress_db_to_memory\u001b[0m\u001b[1;33m(\u001b[0m\u001b[0mself\u001b[0m\u001b[1;33m,\u001b[0m \u001b[0msqlite_db_path\u001b[0m\u001b[1;33m:\u001b[0m \u001b[0mstr\u001b[0m\u001b[1;33m)\u001b[0m\u001b[1;33m:\u001b[0m\u001b[1;33m\u001b[0m\u001b[1;33m\u001b[0m\u001b[0m\n",
      "\u001b[1;32m~\\anaconda3\\lib\\site-packages\\pyowm\\commons\\cityidregistry.py\u001b[0m in \u001b[0;36m__init__\u001b[1;34m(self, sqlite_db_path)\u001b[0m\n\u001b[0;32m     20\u001b[0m \u001b[1;33m\u001b[0m\u001b[0m\n\u001b[0;32m     21\u001b[0m     \u001b[1;32mdef\u001b[0m \u001b[0m__init__\u001b[0m\u001b[1;33m(\u001b[0m\u001b[0mself\u001b[0m\u001b[1;33m,\u001b[0m \u001b[0msqlite_db_path\u001b[0m\u001b[1;33m:\u001b[0m \u001b[0mstr\u001b[0m\u001b[1;33m)\u001b[0m\u001b[1;33m:\u001b[0m\u001b[1;33m\u001b[0m\u001b[1;33m\u001b[0m\u001b[0m\n\u001b[1;32m---> 22\u001b[1;33m         \u001b[0mself\u001b[0m\u001b[1;33m.\u001b[0m\u001b[0mconnection\u001b[0m \u001b[1;33m=\u001b[0m \u001b[0mself\u001b[0m\u001b[1;33m.\u001b[0m\u001b[0m__decompress_db_to_memory\u001b[0m\u001b[1;33m(\u001b[0m\u001b[0msqlite_db_path\u001b[0m\u001b[1;33m)\u001b[0m\u001b[1;33m\u001b[0m\u001b[1;33m\u001b[0m\u001b[0m\n\u001b[0m\u001b[0;32m     23\u001b[0m \u001b[1;33m\u001b[0m\u001b[0m\n\u001b[0;32m     24\u001b[0m     \u001b[1;33m@\u001b[0m\u001b[0mclassmethod\u001b[0m\u001b[1;33m\u001b[0m\u001b[1;33m\u001b[0m\u001b[0m\n",
      "\u001b[1;32m~\\anaconda3\\lib\\site-packages\\pyowm\\commons\\cityidregistry.py\u001b[0m in \u001b[0;36m__decompress_db_to_memory\u001b[1;34m(self, sqlite_db_path)\u001b[0m\n\u001b[0;32m     41\u001b[0m \u001b[1;33m\u001b[0m\u001b[0m\n\u001b[0;32m     42\u001b[0m         \u001b[1;31m# read and uncompress data from compressed DB\u001b[0m\u001b[1;33m\u001b[0m\u001b[1;33m\u001b[0m\u001b[0m\n\u001b[1;32m---> 43\u001b[1;33m         \u001b[1;32mwith\u001b[0m \u001b[0mas_file\u001b[0m\u001b[1;33m(\u001b[0m\u001b[0mfiles\u001b[0m\u001b[1;33m(\u001b[0m\u001b[0m__name__\u001b[0m\u001b[1;33m)\u001b[0m \u001b[1;33m/\u001b[0m \u001b[0msqlite_db_path\u001b[0m\u001b[1;33m)\u001b[0m \u001b[1;32mas\u001b[0m \u001b[0mres_name\u001b[0m\u001b[1;33m:\u001b[0m\u001b[1;33m\u001b[0m\u001b[1;33m\u001b[0m\u001b[0m\n\u001b[0m\u001b[0;32m     44\u001b[0m             \u001b[0mbz2_db\u001b[0m \u001b[1;33m=\u001b[0m \u001b[0mbz2\u001b[0m\u001b[1;33m.\u001b[0m\u001b[0mBZ2File\u001b[0m\u001b[1;33m(\u001b[0m\u001b[0mres_name\u001b[0m\u001b[1;33m)\u001b[0m\u001b[1;33m\u001b[0m\u001b[1;33m\u001b[0m\u001b[0m\n\u001b[0;32m     45\u001b[0m         \u001b[0mdecompressed_data\u001b[0m \u001b[1;33m=\u001b[0m \u001b[0mbz2_db\u001b[0m\u001b[1;33m.\u001b[0m\u001b[0mread\u001b[0m\u001b[1;33m(\u001b[0m\u001b[1;33m)\u001b[0m\u001b[1;33m\u001b[0m\u001b[1;33m\u001b[0m\u001b[0m\n",
      "\u001b[1;32m~\\anaconda3\\lib\\importlib\\resources.py\u001b[0m in \u001b[0;36mfiles\u001b[1;34m(package)\u001b[0m\n\u001b[0;32m    145\u001b[0m     \u001b[0mGet\u001b[0m \u001b[0ma\u001b[0m \u001b[0mTraversable\u001b[0m \u001b[0mresource\u001b[0m \u001b[1;32mfrom\u001b[0m \u001b[0ma\u001b[0m \u001b[0mpackage\u001b[0m\u001b[1;33m\u001b[0m\u001b[1;33m\u001b[0m\u001b[0m\n\u001b[0;32m    146\u001b[0m     \"\"\"\n\u001b[1;32m--> 147\u001b[1;33m     \u001b[1;32mreturn\u001b[0m \u001b[0m_common\u001b[0m\u001b[1;33m.\u001b[0m\u001b[0mfrom_package\u001b[0m\u001b[1;33m(\u001b[0m\u001b[0m_get_package\u001b[0m\u001b[1;33m(\u001b[0m\u001b[0mpackage\u001b[0m\u001b[1;33m)\u001b[0m\u001b[1;33m)\u001b[0m\u001b[1;33m\u001b[0m\u001b[1;33m\u001b[0m\u001b[0m\n\u001b[0m\u001b[0;32m    148\u001b[0m \u001b[1;33m\u001b[0m\u001b[0m\n\u001b[0;32m    149\u001b[0m \u001b[1;33m\u001b[0m\u001b[0m\n",
      "\u001b[1;32m~\\anaconda3\\lib\\importlib\\resources.py\u001b[0m in \u001b[0;36m_get_package\u001b[1;34m(package)\u001b[0m\n\u001b[0;32m     49\u001b[0m     \u001b[0mmodule\u001b[0m \u001b[1;33m=\u001b[0m \u001b[0m_resolve\u001b[0m\u001b[1;33m(\u001b[0m\u001b[0mpackage\u001b[0m\u001b[1;33m)\u001b[0m\u001b[1;33m\u001b[0m\u001b[1;33m\u001b[0m\u001b[0m\n\u001b[0;32m     50\u001b[0m     \u001b[1;32mif\u001b[0m \u001b[0mmodule\u001b[0m\u001b[1;33m.\u001b[0m\u001b[0m__spec__\u001b[0m\u001b[1;33m.\u001b[0m\u001b[0msubmodule_search_locations\u001b[0m \u001b[1;32mis\u001b[0m \u001b[1;32mNone\u001b[0m\u001b[1;33m:\u001b[0m\u001b[1;33m\u001b[0m\u001b[1;33m\u001b[0m\u001b[0m\n\u001b[1;32m---> 51\u001b[1;33m         \u001b[1;32mraise\u001b[0m \u001b[0mTypeError\u001b[0m\u001b[1;33m(\u001b[0m\u001b[1;34m'{!r} is not a package'\u001b[0m\u001b[1;33m.\u001b[0m\u001b[0mformat\u001b[0m\u001b[1;33m(\u001b[0m\u001b[0mpackage\u001b[0m\u001b[1;33m)\u001b[0m\u001b[1;33m)\u001b[0m\u001b[1;33m\u001b[0m\u001b[1;33m\u001b[0m\u001b[0m\n\u001b[0m\u001b[0;32m     52\u001b[0m     \u001b[1;32mreturn\u001b[0m \u001b[0mmodule\u001b[0m\u001b[1;33m\u001b[0m\u001b[1;33m\u001b[0m\u001b[0m\n\u001b[0;32m     53\u001b[0m \u001b[1;33m\u001b[0m\u001b[0m\n",
      "\u001b[1;31mTypeError\u001b[0m: 'pyowm.commons.cityidregistry' is not a package"
     ]
    }
   ],
   "source": [
    "reg = owm.city_id_registry()\n",
    "list_of_locations = reg.locations_for('Tokyo', country='JP', matching='exact')\n",
    "tokyo = list_of_locations[0]\n",
    "lat = tokyo.lat   # 35.689499\n",
    "lon = tokyo.lon   # 139.691711"
   ]
  },
  {
   "cell_type": "code",
   "execution_count": 93,
   "id": "7dc6e1a4",
   "metadata": {},
   "outputs": [
    {
     "data": {
      "text/plain": [
       "-0.1276474"
      ]
     },
     "execution_count": 93,
     "metadata": {},
     "output_type": "execute_result"
    }
   ],
   "source": [
    "owm = OWM(\"a14cdbc91a8575c20f4ddfdfd8e2bc66\")\n",
    "mgr = owm.geocoding_manager()\n",
    "\n",
    "# geocode London (no country specified) - we'll get many results\n",
    "list_of_locations = mgr.geocode('London')\n",
    "a_london = list_of_locations[0]  # taking the first London in the list\n",
    "a_london.lat\n",
    "a_london.lon "
   ]
  },
  {
   "cell_type": "code",
   "execution_count": 94,
   "id": "b56abbcd",
   "metadata": {
    "scrolled": true
   },
   "outputs": [
    {
     "ename": "UnauthorizedError",
     "evalue": "Invalid API Key provided",
     "output_type": "error",
     "traceback": [
      "\u001b[1;31m---------------------------------------------------------------------------\u001b[0m",
      "\u001b[1;31mUnauthorizedError\u001b[0m                         Traceback (most recent call last)",
      "\u001b[1;32m~\\AppData\\Local\\Temp\\ipykernel_10856\\1748292927.py\u001b[0m in \u001b[0;36m<module>\u001b[1;34m\u001b[0m\n\u001b[0;32m      1\u001b[0m \u001b[0mmgr\u001b[0m \u001b[1;33m=\u001b[0m \u001b[0mowm\u001b[0m\u001b[1;33m.\u001b[0m\u001b[0mweather_manager\u001b[0m\u001b[1;33m(\u001b[0m\u001b[1;33m)\u001b[0m\u001b[1;33m\u001b[0m\u001b[1;33m\u001b[0m\u001b[0m\n\u001b[1;32m----> 2\u001b[1;33m \u001b[0mone_call\u001b[0m \u001b[1;33m=\u001b[0m \u001b[0mmgr\u001b[0m\u001b[1;33m.\u001b[0m\u001b[0mone_call\u001b[0m\u001b[1;33m(\u001b[0m\u001b[0mlat\u001b[0m\u001b[1;33m=\u001b[0m\u001b[0ma_london\u001b[0m\u001b[1;33m.\u001b[0m\u001b[0mlat\u001b[0m\u001b[1;33m,\u001b[0m \u001b[0mlon\u001b[0m\u001b[1;33m=\u001b[0m\u001b[0ma_london\u001b[0m\u001b[1;33m.\u001b[0m\u001b[0mlon\u001b[0m\u001b[1;33m)\u001b[0m\u001b[1;33m\u001b[0m\u001b[1;33m\u001b[0m\u001b[0m\n\u001b[0m\u001b[0;32m      3\u001b[0m \u001b[1;33m\u001b[0m\u001b[0m\n\u001b[0;32m      4\u001b[0m \u001b[0mone_call\u001b[0m\u001b[1;33m.\u001b[0m\u001b[0mcurrent\u001b[0m\u001b[1;33m.\u001b[0m\u001b[0mhumidity\u001b[0m\u001b[1;33m\u001b[0m\u001b[1;33m\u001b[0m\u001b[0m\n",
      "\u001b[1;32m~\\anaconda3\\lib\\site-packages\\pyowm\\weatherapi30\\weather_manager.py\u001b[0m in \u001b[0;36mone_call\u001b[1;34m(self, lat, lon, **kwargs)\u001b[0m\n\u001b[0;32m    530\u001b[0m             \u001b[1;32melif\u001b[0m \u001b[0mkey\u001b[0m \u001b[1;33m==\u001b[0m \u001b[1;34m'units'\u001b[0m\u001b[1;33m:\u001b[0m\u001b[1;33m\u001b[0m\u001b[1;33m\u001b[0m\u001b[0m\n\u001b[0;32m    531\u001b[0m                 \u001b[0mparams\u001b[0m\u001b[1;33m[\u001b[0m\u001b[1;34m'units'\u001b[0m\u001b[1;33m]\u001b[0m \u001b[1;33m=\u001b[0m \u001b[0mvalue\u001b[0m\u001b[1;33m\u001b[0m\u001b[1;33m\u001b[0m\u001b[0m\n\u001b[1;32m--> 532\u001b[1;33m         \u001b[0m_\u001b[0m\u001b[1;33m,\u001b[0m \u001b[0mjson_data\u001b[0m \u001b[1;33m=\u001b[0m \u001b[0mself\u001b[0m\u001b[1;33m.\u001b[0m\u001b[0mone_call_http_client\u001b[0m\u001b[1;33m.\u001b[0m\u001b[0mget_json\u001b[0m\u001b[1;33m(\u001b[0m\u001b[0mONE_CALL_URI\u001b[0m\u001b[1;33m,\u001b[0m \u001b[0mparams\u001b[0m\u001b[1;33m=\u001b[0m\u001b[0mparams\u001b[0m\u001b[1;33m)\u001b[0m\u001b[1;33m\u001b[0m\u001b[1;33m\u001b[0m\u001b[0m\n\u001b[0m\u001b[0;32m    533\u001b[0m         \u001b[1;32mreturn\u001b[0m \u001b[0mone_call\u001b[0m\u001b[1;33m.\u001b[0m\u001b[0mOneCall\u001b[0m\u001b[1;33m.\u001b[0m\u001b[0mfrom_dict\u001b[0m\u001b[1;33m(\u001b[0m\u001b[0mjson_data\u001b[0m\u001b[1;33m)\u001b[0m\u001b[1;33m\u001b[0m\u001b[1;33m\u001b[0m\u001b[0m\n\u001b[0;32m    534\u001b[0m \u001b[1;33m\u001b[0m\u001b[0m\n",
      "\u001b[1;32m~\\anaconda3\\lib\\site-packages\\pyowm\\commons\\http_client.py\u001b[0m in \u001b[0;36mget_json\u001b[1;34m(self, path, params, headers)\u001b[0m\n\u001b[0;32m    156\u001b[0m         \u001b[1;32mexcept\u001b[0m \u001b[0mrequests\u001b[0m\u001b[1;33m.\u001b[0m\u001b[0mexceptions\u001b[0m\u001b[1;33m.\u001b[0m\u001b[0mTimeout\u001b[0m\u001b[1;33m:\u001b[0m\u001b[1;33m\u001b[0m\u001b[1;33m\u001b[0m\u001b[0m\n\u001b[0;32m    157\u001b[0m             \u001b[1;32mraise\u001b[0m \u001b[0mexceptions\u001b[0m\u001b[1;33m.\u001b[0m\u001b[0mTimeoutError\u001b[0m\u001b[1;33m(\u001b[0m\u001b[1;34m'API call timed out'\u001b[0m\u001b[1;33m)\u001b[0m\u001b[1;33m\u001b[0m\u001b[1;33m\u001b[0m\u001b[0m\n\u001b[1;32m--> 158\u001b[1;33m         \u001b[0mHttpClient\u001b[0m\u001b[1;33m.\u001b[0m\u001b[0mcheck_status_code\u001b[0m\u001b[1;33m(\u001b[0m\u001b[0mresp\u001b[0m\u001b[1;33m.\u001b[0m\u001b[0mstatus_code\u001b[0m\u001b[1;33m,\u001b[0m \u001b[0mresp\u001b[0m\u001b[1;33m.\u001b[0m\u001b[0mtext\u001b[0m\u001b[1;33m)\u001b[0m\u001b[1;33m\u001b[0m\u001b[1;33m\u001b[0m\u001b[0m\n\u001b[0m\u001b[0;32m    159\u001b[0m         \u001b[1;32mtry\u001b[0m\u001b[1;33m:\u001b[0m\u001b[1;33m\u001b[0m\u001b[1;33m\u001b[0m\u001b[0m\n\u001b[0;32m    160\u001b[0m             \u001b[1;32mreturn\u001b[0m \u001b[0mresp\u001b[0m\u001b[1;33m.\u001b[0m\u001b[0mstatus_code\u001b[0m\u001b[1;33m,\u001b[0m \u001b[0mresp\u001b[0m\u001b[1;33m.\u001b[0m\u001b[0mjson\u001b[0m\u001b[1;33m(\u001b[0m\u001b[1;33m)\u001b[0m\u001b[1;33m\u001b[0m\u001b[1;33m\u001b[0m\u001b[0m\n",
      "\u001b[1;32m~\\anaconda3\\lib\\site-packages\\pyowm\\commons\\http_client.py\u001b[0m in \u001b[0;36mcheck_status_code\u001b[1;34m(cls, status_code, payload)\u001b[0m\n\u001b[0;32m    311\u001b[0m             \u001b[1;32mraise\u001b[0m \u001b[0mexceptions\u001b[0m\u001b[1;33m.\u001b[0m\u001b[0mAPIRequestError\u001b[0m\u001b[1;33m(\u001b[0m\u001b[0mpayload\u001b[0m\u001b[1;33m)\u001b[0m\u001b[1;33m\u001b[0m\u001b[1;33m\u001b[0m\u001b[0m\n\u001b[0;32m    312\u001b[0m         \u001b[1;32melif\u001b[0m \u001b[0mstatus_code\u001b[0m \u001b[1;33m==\u001b[0m \u001b[1;36m401\u001b[0m\u001b[1;33m:\u001b[0m\u001b[1;33m\u001b[0m\u001b[1;33m\u001b[0m\u001b[0m\n\u001b[1;32m--> 313\u001b[1;33m             \u001b[1;32mraise\u001b[0m \u001b[0mexceptions\u001b[0m\u001b[1;33m.\u001b[0m\u001b[0mUnauthorizedError\u001b[0m\u001b[1;33m(\u001b[0m\u001b[1;34m'Invalid API Key provided'\u001b[0m\u001b[1;33m)\u001b[0m\u001b[1;33m\u001b[0m\u001b[1;33m\u001b[0m\u001b[0m\n\u001b[0m\u001b[0;32m    314\u001b[0m         \u001b[1;32melif\u001b[0m \u001b[0mstatus_code\u001b[0m \u001b[1;33m==\u001b[0m \u001b[1;36m404\u001b[0m\u001b[1;33m:\u001b[0m\u001b[1;33m\u001b[0m\u001b[1;33m\u001b[0m\u001b[0m\n\u001b[0;32m    315\u001b[0m             \u001b[1;32mraise\u001b[0m \u001b[0mexceptions\u001b[0m\u001b[1;33m.\u001b[0m\u001b[0mNotFoundError\u001b[0m\u001b[1;33m(\u001b[0m\u001b[1;34m'Unable to find the resource'\u001b[0m\u001b[1;33m)\u001b[0m\u001b[1;33m\u001b[0m\u001b[1;33m\u001b[0m\u001b[0m\n",
      "\u001b[1;31mUnauthorizedError\u001b[0m: Invalid API Key provided"
     ]
    }
   ],
   "source": [
    "mgr = owm.weather_manager()\n",
    "one_call = mgr.one_call(lat=a_london.lat, lon=a_london.lon)\n",
    "\n",
    "one_call.current.humidity"
   ]
  },
  {
   "cell_type": "markdown",
   "id": "7e7b93b2-c383-4e49-8fce-a0923ac59031",
   "metadata": {},
   "source": [
    "## use case 3: Combining and chaining calls\n",
    "\n",
    "Wrappers often offer methods that make multiple calls to batch requests that make sense to batch. And often they offer methods that make sequences of calls that each returns information necessary to make the next call."
   ]
  },
  {
   "cell_type": "markdown",
   "id": "8f4a6b6c-f397-48ce-a3ef-f88e1fb95eb9",
   "metadata": {},
   "source": [
    "For example, to get a weather forecast for a specific city using the raw API you need to first geocode the city to get its latitude and longitude:"
   ]
  },
  {
   "cell_type": "code",
   "execution_count": 95,
   "id": "d182cf31-80f8-4b61-8de0-897d2d6479d7",
   "metadata": {},
   "outputs": [
    {
     "data": {
      "text/plain": [
       "(40.7143, -74.006)"
      ]
     },
     "execution_count": 95,
     "metadata": {},
     "output_type": "execute_result"
    }
   ],
   "source": [
    "city = 'New York'\n",
    "geocode_url = f'http://api.openweathermap.org/data/2.5/weather?q={city}'\n",
    "geocode_response = requests.get(geocode_url,params=params).json()\n",
    "\n",
    "lat = geocode_response['coord']['lat']\n",
    "lon = geocode_response['coord']['lon']\n",
    "\n",
    "(lat,lon)"
   ]
  },
  {
   "cell_type": "markdown",
   "id": "547c5deb-1070-4b72-b035-32ea5a615eda",
   "metadata": {},
   "source": [
    "Then, request the weather forecast for that latitude/longitude:"
   ]
  },
  {
   "cell_type": "code",
   "execution_count": 96,
   "id": "03737eff-cbc6-412f-b6a1-03e28b39b1e4",
   "metadata": {
    "scrolled": true
   },
   "outputs": [
    {
     "name": "stdout",
     "output_type": "stream",
     "text": [
      "Time: 2025-09-03 09:00:00, Temp: 290.64°C\n",
      "Time: 2025-09-03 12:00:00, Temp: 290.73°C\n",
      "Time: 2025-09-03 15:00:00, Temp: 294.29°C\n",
      "Time: 2025-09-03 18:00:00, Temp: 298.25°C\n",
      "Time: 2025-09-03 21:00:00, Temp: 296.54°C\n",
      "Time: 2025-09-04 00:00:00, Temp: 293.65°C\n",
      "Time: 2025-09-04 03:00:00, Temp: 294.28°C\n",
      "Time: 2025-09-04 06:00:00, Temp: 292.95°C\n",
      "Time: 2025-09-04 09:00:00, Temp: 292.18°C\n",
      "Time: 2025-09-04 12:00:00, Temp: 293.01°C\n",
      "Time: 2025-09-04 15:00:00, Temp: 296.65°C\n",
      "Time: 2025-09-04 18:00:00, Temp: 298.15°C\n",
      "Time: 2025-09-04 21:00:00, Temp: 296.54°C\n",
      "Time: 2025-09-05 00:00:00, Temp: 295.86°C\n",
      "Time: 2025-09-05 03:00:00, Temp: 295.51°C\n",
      "Time: 2025-09-05 06:00:00, Temp: 293.1°C\n",
      "Time: 2025-09-05 09:00:00, Temp: 293.38°C\n",
      "Time: 2025-09-05 12:00:00, Temp: 293.68°C\n",
      "Time: 2025-09-05 15:00:00, Temp: 297.37°C\n",
      "Time: 2025-09-05 18:00:00, Temp: 300.39°C\n",
      "Time: 2025-09-05 21:00:00, Temp: 301.06°C\n",
      "Time: 2025-09-06 00:00:00, Temp: 300.05°C\n",
      "Time: 2025-09-06 03:00:00, Temp: 297.8°C\n",
      "Time: 2025-09-06 06:00:00, Temp: 297.15°C\n",
      "Time: 2025-09-06 09:00:00, Temp: 296.33°C\n",
      "Time: 2025-09-06 12:00:00, Temp: 296.55°C\n",
      "Time: 2025-09-06 15:00:00, Temp: 300.4°C\n",
      "Time: 2025-09-06 18:00:00, Temp: 302.43°C\n",
      "Time: 2025-09-06 21:00:00, Temp: 298.31°C\n",
      "Time: 2025-09-07 00:00:00, Temp: 295.47°C\n",
      "Time: 2025-09-07 03:00:00, Temp: 291.97°C\n",
      "Time: 2025-09-07 06:00:00, Temp: 291.67°C\n",
      "Time: 2025-09-07 09:00:00, Temp: 291.22°C\n",
      "Time: 2025-09-07 12:00:00, Temp: 291.51°C\n",
      "Time: 2025-09-07 15:00:00, Temp: 292.47°C\n",
      "Time: 2025-09-07 18:00:00, Temp: 292.31°C\n",
      "Time: 2025-09-07 21:00:00, Temp: 293.04°C\n",
      "Time: 2025-09-08 00:00:00, Temp: 293.01°C\n",
      "Time: 2025-09-08 03:00:00, Temp: 292.44°C\n",
      "Time: 2025-09-08 06:00:00, Temp: 291.8°C\n"
     ]
    }
   ],
   "source": [
    "forecast_url = f'http://api.openweathermap.org/data/2.5/forecast?lat={lat}&lon={lon}'\n",
    "forecast_response = requests.get(forecast_url, params=params).json()\n",
    "\n",
    "for entry in forecast_response['list']:\n",
    "    print(f\"Time: {entry['dt_txt']}, Temp: {entry['main']['temp']}°C\")"
   ]
  },
  {
   "cell_type": "markdown",
   "id": "f75ab558-7500-40fa-a4aa-93a18053059a",
   "metadata": {},
   "source": [
    "Two calls: one for geocoding, one for forecasts.\n",
    "But with pyowm, because this is a common operation, there is a method that handles the geocoding internally and then fetches the weather forecast in one step.\n",
    "\n",
    "Get the above forecast in a single call using pyowm.\n",
    "\n",
    "Hint: search for \"forecast_at_place\" in the code recipies of the documentation"
   ]
  },
  {
   "cell_type": "code",
   "execution_count": 74,
   "id": "76e5341e",
   "metadata": {},
   "outputs": [
    {
     "data": {
      "text/plain": [
       "<pyowm.weatherapi30.forecast.Forecast - reception_time=2025-09-02 10:05:58+00:00, interval=3h>"
      ]
     },
     "execution_count": 74,
     "metadata": {},
     "output_type": "execute_result"
    }
   ],
   "source": [
    "three_h_forecast"
   ]
  },
  {
   "cell_type": "code",
   "execution_count": 97,
   "id": "11e3c1a8-260d-467c-8f47-793fd62a239b",
   "metadata": {},
   "outputs": [
    {
     "name": "stdout",
     "output_type": "stream",
     "text": [
      "Time: 2025-09-03 09:00:00+00:00 Temp: 290.56\n",
      "Time: 2025-09-03 12:00:00+00:00 Temp: 290.67\n",
      "Time: 2025-09-03 15:00:00+00:00 Temp: 294.26\n",
      "Time: 2025-09-03 18:00:00+00:00 Temp: 298.25\n",
      "Time: 2025-09-03 21:00:00+00:00 Temp: 296.54\n",
      "Time: 2025-09-04 00:00:00+00:00 Temp: 293.65\n",
      "Time: 2025-09-04 03:00:00+00:00 Temp: 294.28\n",
      "Time: 2025-09-04 06:00:00+00:00 Temp: 292.95\n",
      "Time: 2025-09-04 09:00:00+00:00 Temp: 292.18\n",
      "Time: 2025-09-04 12:00:00+00:00 Temp: 293.01\n",
      "Time: 2025-09-04 15:00:00+00:00 Temp: 296.65\n",
      "Time: 2025-09-04 18:00:00+00:00 Temp: 298.15\n",
      "Time: 2025-09-04 21:00:00+00:00 Temp: 296.54\n",
      "Time: 2025-09-05 00:00:00+00:00 Temp: 295.86\n",
      "Time: 2025-09-05 03:00:00+00:00 Temp: 295.51\n",
      "Time: 2025-09-05 06:00:00+00:00 Temp: 293.1\n",
      "Time: 2025-09-05 09:00:00+00:00 Temp: 293.38\n",
      "Time: 2025-09-05 12:00:00+00:00 Temp: 293.68\n",
      "Time: 2025-09-05 15:00:00+00:00 Temp: 297.37\n",
      "Time: 2025-09-05 18:00:00+00:00 Temp: 300.39\n",
      "Time: 2025-09-05 21:00:00+00:00 Temp: 301.06\n",
      "Time: 2025-09-06 00:00:00+00:00 Temp: 300.05\n",
      "Time: 2025-09-06 03:00:00+00:00 Temp: 297.8\n",
      "Time: 2025-09-06 06:00:00+00:00 Temp: 297.15\n",
      "Time: 2025-09-06 09:00:00+00:00 Temp: 296.33\n",
      "Time: 2025-09-06 12:00:00+00:00 Temp: 296.55\n",
      "Time: 2025-09-06 15:00:00+00:00 Temp: 300.4\n",
      "Time: 2025-09-06 18:00:00+00:00 Temp: 302.43\n",
      "Time: 2025-09-06 21:00:00+00:00 Temp: 298.31\n",
      "Time: 2025-09-07 00:00:00+00:00 Temp: 295.47\n",
      "Time: 2025-09-07 03:00:00+00:00 Temp: 291.97\n",
      "Time: 2025-09-07 06:00:00+00:00 Temp: 291.67\n",
      "Time: 2025-09-07 09:00:00+00:00 Temp: 291.22\n",
      "Time: 2025-09-07 12:00:00+00:00 Temp: 291.51\n",
      "Time: 2025-09-07 15:00:00+00:00 Temp: 292.47\n",
      "Time: 2025-09-07 18:00:00+00:00 Temp: 292.31\n",
      "Time: 2025-09-07 21:00:00+00:00 Temp: 293.04\n",
      "Time: 2025-09-08 00:00:00+00:00 Temp: 293.01\n",
      "Time: 2025-09-08 03:00:00+00:00 Temp: 292.44\n",
      "Time: 2025-09-08 06:00:00+00:00 Temp: 291.8\n"
     ]
    }
   ],
   "source": [
    "from pyowm.utils import timestamps\n",
    "\n",
    "three_h_forecast = mgr.forecast_at_place('New York', '3h').forecast\n",
    "\n",
    "for w in three_h_forecast:\n",
    "    temp_c = w.temperature()['temp']\n",
    "    print(\"Time:\", w.reference_time('iso'),\"Temp:\", temp_c)"
   ]
  },
  {
   "cell_type": "markdown",
   "id": "7ab2b0cc-0d16-4da5-be3e-b8466faecca3",
   "metadata": {},
   "source": [
    "## use case 4: Convenience methods\n",
    "\n",
    "Wrappers often offer built-in methods to handle common kinds of tasks related to the APIs, reducing the need for manual calculations.\n",
    "\n",
    "for example converting units (e.g., temperature from Celsius to Fahrenheit) or working with more complex data requires manual conversion when using the raw API."
   ]
  },
  {
   "cell_type": "code",
   "execution_count": 75,
   "id": "c8e68dad-a503-49cf-9c1e-72e9ed1fab3d",
   "metadata": {},
   "outputs": [
    {
     "name": "stdout",
     "output_type": "stream",
     "text": [
      "Temperature in Celsius: 291.37°C, Fahrenheit: 556.466°F\n"
     ]
    }
   ],
   "source": [
    "city = 'London'\n",
    "url = f'http://api.openweathermap.org/data/2.5/weather?q={city}&appid={api_key}'\n",
    "\n",
    "response = requests.get(url)\n",
    "data = response.json()\n",
    "temperature_celsius = data['main']['temp']\n",
    "temperature_fahrenheit = (temperature_celsius * 9/5) + 32\n",
    "\n",
    "print(f\"Temperature in Celsius: {temperature_celsius}°C, Fahrenheit: {temperature_fahrenheit}°F\")"
   ]
  },
  {
   "cell_type": "markdown",
   "id": "9b05658c-e9cb-491d-8554-ab4d6dd56e1d",
   "metadata": {},
   "source": [
    "But the pyowm wrapper offers built-in methods to handle these kinds of tasks, reducing the need for manual calculations.\n",
    "Get the temperature both in Celcius and Farenheit using pyowm. Navigate the code recipes to figure out the inbuilt methods for this."
   ]
  },
  {
   "cell_type": "code",
   "execution_count": 76,
   "id": "4695bb83-bc35-4c1b-b390-5ea2027984ef",
   "metadata": {},
   "outputs": [
    {
     "name": "stdout",
     "output_type": "stream",
     "text": [
      "Temperature in Celsius: 18.03°C\n",
      "Temperature in Fahrenheit: 64.45°F\n"
     ]
    }
   ],
   "source": [
    "observation = mgr.weather_at_place(\"London,GB\")\n",
    "weather = observation.weather\n",
    "\n",
    "temp_dict_celsius = weather.temperature('celsius')\n",
    "temp_dict_fahrenheit = weather.temperature('fahrenheit')\n",
    "\n",
    "print(f\"Temperature in Celsius: {temp_dict_celsius['temp']}°C\")\n",
    "print(f\"Temperature in Fahrenheit: {temp_dict_fahrenheit['temp']}°F\")"
   ]
  },
  {
   "cell_type": "code",
   "execution_count": 78,
   "id": "c89c7278",
   "metadata": {},
   "outputs": [
    {
     "data": {
      "text/html": [
       "<div>\n",
       "<style scoped>\n",
       "    .dataframe tbody tr th:only-of-type {\n",
       "        vertical-align: middle;\n",
       "    }\n",
       "\n",
       "    .dataframe tbody tr th {\n",
       "        vertical-align: top;\n",
       "    }\n",
       "\n",
       "    .dataframe thead th {\n",
       "        text-align: right;\n",
       "    }\n",
       "</style>\n",
       "<table border=\"1\" class=\"dataframe\">\n",
       "  <thead>\n",
       "    <tr style=\"text-align: right;\">\n",
       "      <th></th>\n",
       "      <th>Old Method</th>\n",
       "      <th>New Method</th>\n",
       "      <th>Description</th>\n",
       "    </tr>\n",
       "  </thead>\n",
       "  <tbody>\n",
       "    <tr>\n",
       "      <th>0</th>\n",
       "      <td>get_status()</td>\n",
       "      <td>status</td>\n",
       "      <td>Short weather description, e.g., 'Clouds'</td>\n",
       "    </tr>\n",
       "    <tr>\n",
       "      <th>1</th>\n",
       "      <td>get_detailed_status()</td>\n",
       "      <td>detailed_status</td>\n",
       "      <td>Detailed weather description, e.g., 'scattered clouds'</td>\n",
       "    </tr>\n",
       "    <tr>\n",
       "      <th>2</th>\n",
       "      <td>get_reference_time('iso')</td>\n",
       "      <td>reference_time('iso')</td>\n",
       "      <td>Reference time as ISO-formatted string</td>\n",
       "    </tr>\n",
       "    <tr>\n",
       "      <th>3</th>\n",
       "      <td>get_reference_time()</td>\n",
       "      <td>reference_time()</td>\n",
       "      <td>Reference time as Unix timestamp</td>\n",
       "    </tr>\n",
       "    <tr>\n",
       "      <th>4</th>\n",
       "      <td>get_temperature('celsius')</td>\n",
       "      <td>temperature('celsius')</td>\n",
       "      <td>Temperature dictionary: {'temp', 'temp_min', 'temp_max'}</td>\n",
       "    </tr>\n",
       "    <tr>\n",
       "      <th>5</th>\n",
       "      <td>get_humidity()</td>\n",
       "      <td>humidity</td>\n",
       "      <td>Humidity percentage</td>\n",
       "    </tr>\n",
       "    <tr>\n",
       "      <th>6</th>\n",
       "      <td>get_wind()</td>\n",
       "      <td>wind()</td>\n",
       "      <td>Wind dictionary: {'speed', 'deg'}</td>\n",
       "    </tr>\n",
       "    <tr>\n",
       "      <th>7</th>\n",
       "      <td>get_clouds()</td>\n",
       "      <td>clouds</td>\n",
       "      <td>Cloud coverage percentage</td>\n",
       "    </tr>\n",
       "    <tr>\n",
       "      <th>8</th>\n",
       "      <td>get_rain()</td>\n",
       "      <td>rain</td>\n",
       "      <td>Rain volume dictionary</td>\n",
       "    </tr>\n",
       "    <tr>\n",
       "      <th>9</th>\n",
       "      <td>get_snow()</td>\n",
       "      <td>snow</td>\n",
       "      <td>Snow volume dictionary</td>\n",
       "    </tr>\n",
       "  </tbody>\n",
       "</table>\n",
       "</div>"
      ],
      "text/plain": [
       "                   Old Method              New Method  \\\n",
       "0                get_status()                  status   \n",
       "1       get_detailed_status()         detailed_status   \n",
       "2   get_reference_time('iso')   reference_time('iso')   \n",
       "3        get_reference_time()        reference_time()   \n",
       "4  get_temperature('celsius')  temperature('celsius')   \n",
       "5              get_humidity()                humidity   \n",
       "6                  get_wind()                  wind()   \n",
       "7                get_clouds()                  clouds   \n",
       "8                  get_rain()                    rain   \n",
       "9                  get_snow()                    snow   \n",
       "\n",
       "                                                Description  \n",
       "0                 Short weather description, e.g., 'Clouds'  \n",
       "1    Detailed weather description, e.g., 'scattered clouds'  \n",
       "2                    Reference time as ISO-formatted string  \n",
       "3                          Reference time as Unix timestamp  \n",
       "4  Temperature dictionary: {'temp', 'temp_min', 'temp_max'}  \n",
       "5                                       Humidity percentage  \n",
       "6                         Wind dictionary: {'speed', 'deg'}  \n",
       "7                                 Cloud coverage percentage  \n",
       "8                                    Rain volume dictionary  \n",
       "9                                    Snow volume dictionary  "
      ]
     },
     "execution_count": 78,
     "metadata": {},
     "output_type": "execute_result"
    }
   ],
   "source": [
    "# Lists of old methods, new methods, and descriptions\n",
    "old_methods = [\n",
    "    \"get_status()\",\n",
    "    \"get_detailed_status()\",\n",
    "    \"get_reference_time('iso')\",\n",
    "    \"get_reference_time()\",\n",
    "    \"get_temperature('celsius')\",\n",
    "    \"get_humidity()\",\n",
    "    \"get_wind()\",\n",
    "    \"get_clouds()\",\n",
    "    \"get_rain()\",\n",
    "    \"get_snow()\"\n",
    "]\n",
    "\n",
    "new_methods = [\n",
    "    \"status\",\n",
    "    \"detailed_status\",\n",
    "    \"reference_time('iso')\",\n",
    "    \"reference_time()\",\n",
    "    \"temperature('celsius')\",\n",
    "    \"humidity\",\n",
    "    \"wind()\",\n",
    "    \"clouds\",\n",
    "    \"rain\",\n",
    "    \"snow\"\n",
    "]\n",
    "\n",
    "descriptions = [\n",
    "    \"Short weather description, e.g., 'Clouds'\",\n",
    "    \"Detailed weather description, e.g., 'scattered clouds'\",\n",
    "    \"Reference time as ISO-formatted string\",\n",
    "    \"Reference time as Unix timestamp\",\n",
    "    \"Temperature dictionary: {'temp', 'temp_min', 'temp_max'}\",\n",
    "    \"Humidity percentage\",\n",
    "    \"Wind dictionary: {'speed', 'deg'}\",\n",
    "    \"Cloud coverage percentage\",\n",
    "    \"Rain volume dictionary\",\n",
    "    \"Snow volume dictionary\"\n",
    "]\n",
    "\n",
    "# Example of creating a DataFrame\n",
    "import pandas as pd\n",
    "\n",
    "df = pd.DataFrame({\n",
    "    \"Old Method\": old_methods,\n",
    "    \"New Method\": new_methods,\n",
    "    \"Description\": descriptions\n",
    "})\n",
    "pd.set_option('display.max_colwidth', None)\n",
    "\n",
    "df\n"
   ]
  },
  {
   "cell_type": "code",
   "execution_count": null,
   "id": "05aaa9a9",
   "metadata": {},
   "outputs": [],
   "source": []
  }
 ],
 "metadata": {
  "kernelspec": {
   "display_name": "Python 3 (ipykernel)",
   "language": "python",
   "name": "python3"
  },
  "language_info": {
   "codemirror_mode": {
    "name": "ipython",
    "version": 3
   },
   "file_extension": ".py",
   "mimetype": "text/x-python",
   "name": "python",
   "nbconvert_exporter": "python",
   "pygments_lexer": "ipython3",
   "version": "3.9.13"
  }
 },
 "nbformat": 4,
 "nbformat_minor": 5
}
